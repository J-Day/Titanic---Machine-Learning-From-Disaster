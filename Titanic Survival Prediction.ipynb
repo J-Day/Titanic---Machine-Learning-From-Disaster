{
 "cells": [
  {
   "cell_type": "code",
   "execution_count": 34,
   "metadata": {},
   "outputs": [],
   "source": [
    "import numpy as np\n",
    "import pandas as pd\n",
    "import matplotlib.pyplot as plt\n",
    "import seaborn as sns\n",
    "\n",
    "from sklearn.experimental import enable_iterative_imputer\n",
    "from sklearn.impute import IterativeImputer\n",
    "\n",
    "import re\n",
    "\n",
    "from sklearn.preprocessing import StandardScaler\n",
    "\n",
    "import xgboost as xgb"
   ]
  },
  {
   "cell_type": "code",
   "execution_count": 35,
   "metadata": {},
   "outputs": [],
   "source": [
    "train_data = pd.read_csv('train.csv')\n",
    "test_data = pd.read_csv('test.csv')"
   ]
  },
  {
   "cell_type": "code",
   "execution_count": 36,
   "metadata": {},
   "outputs": [],
   "source": [
    "train_data = train_data.dropna(subset=['Embarked'])"
   ]
  },
  {
   "cell_type": "code",
   "execution_count": 37,
   "metadata": {},
   "outputs": [
    {
     "data": {
      "text/html": [
       "<div>\n",
       "<style scoped>\n",
       "    .dataframe tbody tr th:only-of-type {\n",
       "        vertical-align: middle;\n",
       "    }\n",
       "\n",
       "    .dataframe tbody tr th {\n",
       "        vertical-align: top;\n",
       "    }\n",
       "\n",
       "    .dataframe thead th {\n",
       "        text-align: right;\n",
       "    }\n",
       "</style>\n",
       "<table border=\"1\" class=\"dataframe\">\n",
       "  <thead>\n",
       "    <tr style=\"text-align: right;\">\n",
       "      <th></th>\n",
       "      <th>PassengerId</th>\n",
       "      <th>Survived</th>\n",
       "      <th>Pclass</th>\n",
       "      <th>Name</th>\n",
       "      <th>Sex</th>\n",
       "      <th>Age</th>\n",
       "      <th>SibSp</th>\n",
       "      <th>Parch</th>\n",
       "      <th>Ticket</th>\n",
       "      <th>Fare</th>\n",
       "      <th>Cabin</th>\n",
       "      <th>Embarked</th>\n",
       "    </tr>\n",
       "  </thead>\n",
       "  <tbody>\n",
       "    <tr>\n",
       "      <th>0</th>\n",
       "      <td>1</td>\n",
       "      <td>0</td>\n",
       "      <td>3</td>\n",
       "      <td>Braund, Mr. Owen Harris</td>\n",
       "      <td>male</td>\n",
       "      <td>22.0</td>\n",
       "      <td>1</td>\n",
       "      <td>0</td>\n",
       "      <td>A/5 21171</td>\n",
       "      <td>7.2500</td>\n",
       "      <td>NaN</td>\n",
       "      <td>S</td>\n",
       "    </tr>\n",
       "    <tr>\n",
       "      <th>1</th>\n",
       "      <td>2</td>\n",
       "      <td>1</td>\n",
       "      <td>1</td>\n",
       "      <td>Cumings, Mrs. John Bradley (Florence Briggs Th...</td>\n",
       "      <td>female</td>\n",
       "      <td>38.0</td>\n",
       "      <td>1</td>\n",
       "      <td>0</td>\n",
       "      <td>PC 17599</td>\n",
       "      <td>71.2833</td>\n",
       "      <td>C85</td>\n",
       "      <td>C</td>\n",
       "    </tr>\n",
       "    <tr>\n",
       "      <th>2</th>\n",
       "      <td>3</td>\n",
       "      <td>1</td>\n",
       "      <td>3</td>\n",
       "      <td>Heikkinen, Miss. Laina</td>\n",
       "      <td>female</td>\n",
       "      <td>26.0</td>\n",
       "      <td>0</td>\n",
       "      <td>0</td>\n",
       "      <td>STON/O2. 3101282</td>\n",
       "      <td>7.9250</td>\n",
       "      <td>NaN</td>\n",
       "      <td>S</td>\n",
       "    </tr>\n",
       "    <tr>\n",
       "      <th>3</th>\n",
       "      <td>4</td>\n",
       "      <td>1</td>\n",
       "      <td>1</td>\n",
       "      <td>Futrelle, Mrs. Jacques Heath (Lily May Peel)</td>\n",
       "      <td>female</td>\n",
       "      <td>35.0</td>\n",
       "      <td>1</td>\n",
       "      <td>0</td>\n",
       "      <td>113803</td>\n",
       "      <td>53.1000</td>\n",
       "      <td>C123</td>\n",
       "      <td>S</td>\n",
       "    </tr>\n",
       "    <tr>\n",
       "      <th>4</th>\n",
       "      <td>5</td>\n",
       "      <td>0</td>\n",
       "      <td>3</td>\n",
       "      <td>Allen, Mr. William Henry</td>\n",
       "      <td>male</td>\n",
       "      <td>35.0</td>\n",
       "      <td>0</td>\n",
       "      <td>0</td>\n",
       "      <td>373450</td>\n",
       "      <td>8.0500</td>\n",
       "      <td>NaN</td>\n",
       "      <td>S</td>\n",
       "    </tr>\n",
       "  </tbody>\n",
       "</table>\n",
       "</div>"
      ],
      "text/plain": [
       "   PassengerId  Survived  Pclass  \\\n",
       "0            1         0       3   \n",
       "1            2         1       1   \n",
       "2            3         1       3   \n",
       "3            4         1       1   \n",
       "4            5         0       3   \n",
       "\n",
       "                                                Name     Sex   Age  SibSp  \\\n",
       "0                            Braund, Mr. Owen Harris    male  22.0      1   \n",
       "1  Cumings, Mrs. John Bradley (Florence Briggs Th...  female  38.0      1   \n",
       "2                             Heikkinen, Miss. Laina  female  26.0      0   \n",
       "3       Futrelle, Mrs. Jacques Heath (Lily May Peel)  female  35.0      1   \n",
       "4                           Allen, Mr. William Henry    male  35.0      0   \n",
       "\n",
       "   Parch            Ticket     Fare Cabin Embarked  \n",
       "0      0         A/5 21171   7.2500   NaN        S  \n",
       "1      0          PC 17599  71.2833   C85        C  \n",
       "2      0  STON/O2. 3101282   7.9250   NaN        S  \n",
       "3      0            113803  53.1000  C123        S  \n",
       "4      0            373450   8.0500   NaN        S  "
      ]
     },
     "execution_count": 37,
     "metadata": {},
     "output_type": "execute_result"
    }
   ],
   "source": [
    "train_data.head()"
   ]
  },
  {
   "cell_type": "code",
   "execution_count": 38,
   "metadata": {},
   "outputs": [],
   "source": [
    "def impute_missing(train_data, test_data):\n",
    "    \n",
    "    train_data['Sex'] = train_data['Sex'].replace({'female':0, 'male':1})\n",
    "    test_data['Sex'] = test_data['Sex'].replace({'female':0, 'male':1})\n",
    "    \n",
    "    train_data['Embarked'] = train_data['Embarked'].replace({'C':0, 'Q':1, 'S':2})\n",
    "    test_data['Embarked'] = test_data['Embarked'].replace({'C':0, 'Q':1, 'S':2})\n",
    "    \n",
    "    train_data_dropped = train_data.drop(['Cabin', 'Survived', 'Name', 'Ticket'], axis=1)\n",
    "    test_data_dropped = test_data.drop(['Cabin', 'Name', 'Ticket'], axis=1)\n",
    "    \n",
    "    train_dropped_cols = train_data[['Cabin', 'Survived', 'Name', 'Ticket']]\n",
    "    test_dropped_cols = test_data[['Cabin', 'Name', 'Ticket']]\n",
    "    \n",
    "    imputer = IterativeImputer(random_state=0)\n",
    "    \n",
    "    imputer.fit(train_data_dropped)\n",
    "    \n",
    "    train_imp = imputer.transform(train_data_dropped)\n",
    "    test_imp = imputer.transform(test_data_dropped)\n",
    "    \n",
    "    train_data_imp_df = pd.DataFrame(train_imp, columns=train_data_dropped.columns)\n",
    "    test_data_imp_df = pd.DataFrame(test_imp, columns=test_data_dropped.columns)\n",
    "    \n",
    "    train_data_imp = pd.concat((train_data_imp_df, train_dropped_cols.reset_index()), axis=1).drop(['index'], axis=1)\n",
    "    test_data_imp = pd.concat((test_data_imp_df, test_dropped_cols.reset_index()), axis=1).drop(['index'], axis=1)\n",
    "        \n",
    "    return train_data_imp, test_data_imp"
   ]
  },
  {
   "cell_type": "code",
   "execution_count": 39,
   "metadata": {},
   "outputs": [],
   "source": [
    "train_data_imp, test_data_imp = impute_missing(train_data, test_data)"
   ]
  },
  {
   "cell_type": "code",
   "execution_count": 40,
   "metadata": {},
   "outputs": [
    {
     "data": {
      "text/html": [
       "<div>\n",
       "<style scoped>\n",
       "    .dataframe tbody tr th:only-of-type {\n",
       "        vertical-align: middle;\n",
       "    }\n",
       "\n",
       "    .dataframe tbody tr th {\n",
       "        vertical-align: top;\n",
       "    }\n",
       "\n",
       "    .dataframe thead th {\n",
       "        text-align: right;\n",
       "    }\n",
       "</style>\n",
       "<table border=\"1\" class=\"dataframe\">\n",
       "  <thead>\n",
       "    <tr style=\"text-align: right;\">\n",
       "      <th></th>\n",
       "      <th>PassengerId</th>\n",
       "      <th>Pclass</th>\n",
       "      <th>Sex</th>\n",
       "      <th>Age</th>\n",
       "      <th>SibSp</th>\n",
       "      <th>Parch</th>\n",
       "      <th>Fare</th>\n",
       "      <th>Embarked</th>\n",
       "      <th>Cabin</th>\n",
       "      <th>Survived</th>\n",
       "      <th>Name</th>\n",
       "      <th>Ticket</th>\n",
       "    </tr>\n",
       "  </thead>\n",
       "  <tbody>\n",
       "    <tr>\n",
       "      <th>0</th>\n",
       "      <td>1.0</td>\n",
       "      <td>3.0</td>\n",
       "      <td>1.0</td>\n",
       "      <td>22.0</td>\n",
       "      <td>1.0</td>\n",
       "      <td>0.0</td>\n",
       "      <td>7.2500</td>\n",
       "      <td>2.0</td>\n",
       "      <td>NaN</td>\n",
       "      <td>0</td>\n",
       "      <td>Braund, Mr. Owen Harris</td>\n",
       "      <td>A/5 21171</td>\n",
       "    </tr>\n",
       "    <tr>\n",
       "      <th>1</th>\n",
       "      <td>2.0</td>\n",
       "      <td>1.0</td>\n",
       "      <td>0.0</td>\n",
       "      <td>38.0</td>\n",
       "      <td>1.0</td>\n",
       "      <td>0.0</td>\n",
       "      <td>71.2833</td>\n",
       "      <td>0.0</td>\n",
       "      <td>C85</td>\n",
       "      <td>1</td>\n",
       "      <td>Cumings, Mrs. John Bradley (Florence Briggs Th...</td>\n",
       "      <td>PC 17599</td>\n",
       "    </tr>\n",
       "    <tr>\n",
       "      <th>2</th>\n",
       "      <td>3.0</td>\n",
       "      <td>3.0</td>\n",
       "      <td>0.0</td>\n",
       "      <td>26.0</td>\n",
       "      <td>0.0</td>\n",
       "      <td>0.0</td>\n",
       "      <td>7.9250</td>\n",
       "      <td>2.0</td>\n",
       "      <td>NaN</td>\n",
       "      <td>1</td>\n",
       "      <td>Heikkinen, Miss. Laina</td>\n",
       "      <td>STON/O2. 3101282</td>\n",
       "    </tr>\n",
       "    <tr>\n",
       "      <th>3</th>\n",
       "      <td>4.0</td>\n",
       "      <td>1.0</td>\n",
       "      <td>0.0</td>\n",
       "      <td>35.0</td>\n",
       "      <td>1.0</td>\n",
       "      <td>0.0</td>\n",
       "      <td>53.1000</td>\n",
       "      <td>2.0</td>\n",
       "      <td>C123</td>\n",
       "      <td>1</td>\n",
       "      <td>Futrelle, Mrs. Jacques Heath (Lily May Peel)</td>\n",
       "      <td>113803</td>\n",
       "    </tr>\n",
       "    <tr>\n",
       "      <th>4</th>\n",
       "      <td>5.0</td>\n",
       "      <td>3.0</td>\n",
       "      <td>1.0</td>\n",
       "      <td>35.0</td>\n",
       "      <td>0.0</td>\n",
       "      <td>0.0</td>\n",
       "      <td>8.0500</td>\n",
       "      <td>2.0</td>\n",
       "      <td>NaN</td>\n",
       "      <td>0</td>\n",
       "      <td>Allen, Mr. William Henry</td>\n",
       "      <td>373450</td>\n",
       "    </tr>\n",
       "  </tbody>\n",
       "</table>\n",
       "</div>"
      ],
      "text/plain": [
       "   PassengerId  Pclass  Sex   Age  SibSp  Parch     Fare  Embarked Cabin  \\\n",
       "0          1.0     3.0  1.0  22.0    1.0    0.0   7.2500       2.0   NaN   \n",
       "1          2.0     1.0  0.0  38.0    1.0    0.0  71.2833       0.0   C85   \n",
       "2          3.0     3.0  0.0  26.0    0.0    0.0   7.9250       2.0   NaN   \n",
       "3          4.0     1.0  0.0  35.0    1.0    0.0  53.1000       2.0  C123   \n",
       "4          5.0     3.0  1.0  35.0    0.0    0.0   8.0500       2.0   NaN   \n",
       "\n",
       "   Survived                                               Name  \\\n",
       "0         0                            Braund, Mr. Owen Harris   \n",
       "1         1  Cumings, Mrs. John Bradley (Florence Briggs Th...   \n",
       "2         1                             Heikkinen, Miss. Laina   \n",
       "3         1       Futrelle, Mrs. Jacques Heath (Lily May Peel)   \n",
       "4         0                           Allen, Mr. William Henry   \n",
       "\n",
       "             Ticket  \n",
       "0         A/5 21171  \n",
       "1          PC 17599  \n",
       "2  STON/O2. 3101282  \n",
       "3            113803  \n",
       "4            373450  "
      ]
     },
     "execution_count": 40,
     "metadata": {},
     "output_type": "execute_result"
    }
   ],
   "source": [
    "train_data_imp.head()"
   ]
  },
  {
   "cell_type": "code",
   "execution_count": 41,
   "metadata": {},
   "outputs": [],
   "source": [
    "train_data_imp['Embarked'] = train_data_imp['Embarked'].replace({0:'C', 1:'Q', 2:'S'})\n",
    "test_data_imp['Embarked'] = test_data_imp['Embarked'].replace({0:'C', 1:'Q', 2:'S'})"
   ]
  },
  {
   "cell_type": "code",
   "execution_count": 42,
   "metadata": {},
   "outputs": [],
   "source": [
    "def get_family_size(train_data, test_data):\n",
    "    \n",
    "    train_data['Family_size'] = train_data['SibSp'] + train_data['Parch'] + 1\n",
    "    train_data['Family_size'] = train_data['Family_size'].astype('int32')\n",
    "    \n",
    "    test_data['Family_size'] = test_data['SibSp'] + test_data['Parch'] + 1\n",
    "    test_data['Family_size'] = test_data['Family_size'].astype('int32')\n",
    "    \n",
    "    return train_data, test_data"
   ]
  },
  {
   "cell_type": "code",
   "execution_count": 43,
   "metadata": {},
   "outputs": [],
   "source": [
    "train_data_imp, test_data_imp = get_family_size(train_data_imp, test_data_imp)"
   ]
  },
  {
   "cell_type": "code",
   "execution_count": 44,
   "metadata": {},
   "outputs": [],
   "source": [
    "def label_alone(row):\n",
    "    if row['Family_size'] == 1:\n",
    "        return 1\n",
    "    else:\n",
    "        return 0"
   ]
  },
  {
   "cell_type": "code",
   "execution_count": 45,
   "metadata": {},
   "outputs": [],
   "source": [
    "def get_alone_column(train_data, test_data):\n",
    "    \n",
    "    train_data['Is_alone'] = train_data.apply(lambda row: label_alone(row), axis=1)\n",
    "    test_data['Is_alone'] = test_data.apply(lambda row: label_alone(row), axis=1)\n",
    "    \n",
    "    return train_data, test_data"
   ]
  },
  {
   "cell_type": "code",
   "execution_count": 46,
   "metadata": {},
   "outputs": [],
   "source": [
    "train_data_imp, test_data_imp = get_alone_column(train_data_imp, test_data_imp)"
   ]
  },
  {
   "cell_type": "code",
   "execution_count": 47,
   "metadata": {},
   "outputs": [],
   "source": [
    "def get_title(row):\n",
    "    title = re.search('([A-Za-z]+)\\.', row['Name'])\n",
    "    if title:\n",
    "        return title.group(1)\n",
    "    return ''"
   ]
  },
  {
   "cell_type": "code",
   "execution_count": 48,
   "metadata": {},
   "outputs": [],
   "source": [
    "def get_title_column(train_data, test_data):\n",
    "    \n",
    "    train_data['Title'] = train_data.apply(lambda row: get_title(row), axis=1)\n",
    "    test_data['Title'] = test_data.apply(lambda row:get_title(row), axis=1)\n",
    "    \n",
    "    return train_data, test_data"
   ]
  },
  {
   "cell_type": "code",
   "execution_count": 49,
   "metadata": {},
   "outputs": [],
   "source": [
    "train_data_imp, test_data_imp = get_title_column(train_data_imp, test_data_imp)"
   ]
  },
  {
   "cell_type": "code",
   "execution_count": 50,
   "metadata": {},
   "outputs": [],
   "source": [
    "def convert_rare_titles(train_data, test_data):\n",
    "    \n",
    "    train_data['Title'] = train_data['Title'].replace({'Mme':'Mrs', 'Mlle':'Miss', 'Ms':'Miss', 'Don':'Mr'})\n",
    "    test_data['Title'] = test_data['Title'].replace({'Mme':'Mrs', 'Mlle':'Miss', 'Ms':'Miss', 'Don':'Mr', 'Dona':'Mrs'})\n",
    "    \n",
    "    all_titles = train_data['Title'].value_counts().index # Gets titles sorted by frequency\n",
    "    \n",
    "    rare_titles = all_titles[4: ] # Omits 4 most frequent titles\n",
    "    \n",
    "    train_data['Title'] = train_data['Title'].replace(rare_titles, 'Rare')\n",
    "    test_data['Title'] = test_data['Title'].replace(rare_titles, 'Rare')\n",
    "    \n",
    "    return train_data, test_data"
   ]
  },
  {
   "cell_type": "code",
   "execution_count": 51,
   "metadata": {},
   "outputs": [],
   "source": [
    "train_data_imp, test_data_imp = convert_rare_titles(train_data_imp, test_data_imp)"
   ]
  },
  {
   "cell_type": "code",
   "execution_count": 52,
   "metadata": {},
   "outputs": [],
   "source": [
    "def normalise_fare(train_data, test_data):\n",
    "    scaler = StandardScaler()\n",
    "    \n",
    "    train_fare_array = np.array(train_data['Fare'])\n",
    "    train_fare_reshaped = train_fare_array.reshape(-1, 1)\n",
    "    train_data['Fare_norm'] = scaler.fit_transform(train_fare_reshaped)\n",
    "    \n",
    "    test_fare_array = np.array(test_data['Fare'])\n",
    "    test_fare_reshaped = test_fare_array.reshape(-1, 1)\n",
    "    test_data['Fare_norm'] = scaler.transform(test_fare_reshaped)\n",
    "    \n",
    "    return train_data, test_data"
   ]
  },
  {
   "cell_type": "code",
   "execution_count": 53,
   "metadata": {},
   "outputs": [],
   "source": [
    "train_data_imp, test_data_imp = normalise_fare(train_data_imp, test_data_imp)"
   ]
  },
  {
   "cell_type": "code",
   "execution_count": 54,
   "metadata": {},
   "outputs": [],
   "source": [
    "def normalise_age(train_data, test_data):\n",
    "    scaler = StandardScaler()\n",
    "    \n",
    "    train_age_array = np.array(train_data['Age'])\n",
    "    train_age_reshaped = train_age_array.reshape(-1, 1)\n",
    "    train_data['Age_norm'] = scaler.fit_transform(train_age_reshaped)\n",
    "    \n",
    "    test_age_array = np.array(test_data['Age'])\n",
    "    test_age_reshaped = test_age_array.reshape(-1, 1)\n",
    "    test_data['Age_norm'] = scaler.transform(test_age_reshaped)\n",
    "    \n",
    "    return train_data, test_data\n",
    "    "
   ]
  },
  {
   "cell_type": "code",
   "execution_count": 55,
   "metadata": {},
   "outputs": [],
   "source": [
    "train_data_imp, test_data_imp = normalise_age(train_data_imp, test_data_imp)"
   ]
  },
  {
   "cell_type": "code",
   "execution_count": 56,
   "metadata": {},
   "outputs": [],
   "source": [
    "def one_hot_encode_embarked(train_data, test_data):\n",
    "    \n",
    "    train_dummies = pd.get_dummies(train_data['Embarked'])\n",
    "    test_dummies = pd.get_dummies(test_data['Embarked'])\n",
    "    \n",
    "    train_data = train_data.join(train_dummies)\n",
    "    test_data = test_data.join(test_dummies)\n",
    "    \n",
    "    return train_data, test_data"
   ]
  },
  {
   "cell_type": "code",
   "execution_count": 57,
   "metadata": {},
   "outputs": [],
   "source": [
    "train_data_imp, test_data_imp = one_hot_encode_embarked(train_data_imp, test_data_imp)"
   ]
  },
  {
   "cell_type": "code",
   "execution_count": 58,
   "metadata": {},
   "outputs": [],
   "source": [
    "def one_hot_encode_title(train_data, test_data):\n",
    "    \n",
    "    one_hot_train = pd.get_dummies(train_data['Title'])\n",
    "    one_hot_test = pd.get_dummies(test_data['Title'])\n",
    "    \n",
    "    train_data = train_data.join(one_hot_train)\n",
    "    test_data = test_data.join(one_hot_test)\n",
    "    \n",
    "    return train_data, test_data"
   ]
  },
  {
   "cell_type": "code",
   "execution_count": 59,
   "metadata": {},
   "outputs": [],
   "source": [
    "train_data_imp, test_data_imp = one_hot_encode_title(train_data_imp, test_data_imp)"
   ]
  },
  {
   "cell_type": "code",
   "execution_count": 60,
   "metadata": {},
   "outputs": [],
   "source": [
    "train_data_clean = train_data_imp.drop(['PassengerId', 'Age', 'Fare', 'Embarked', 'Cabin', 'Name', 'Ticket', 'Title'], axis=1)\n",
    "test_data_clean = test_data_imp.drop(['PassengerId', 'Age', 'Fare', 'Embarked', 'Cabin', 'Name', 'Ticket', 'Title'], axis=1)"
   ]
  },
  {
   "cell_type": "code",
   "execution_count": 61,
   "metadata": {},
   "outputs": [],
   "source": [
    "X_train = train_data_clean.drop(['Survived'], axis=1)\n",
    "y_train = train_data_clean['Survived']\n",
    "X_test = test_data_clean.copy()"
   ]
  },
  {
   "cell_type": "code",
   "execution_count": 62,
   "metadata": {},
   "outputs": [],
   "source": [
    "classifier = xgb.XGBClassifier(objective='binary:logistic', n_estimators=10, seed=123)\n",
    "\n",
    "classifier.fit(X_train, y_train)\n",
    "\n",
    "preds = classifier.predict(X_test)"
   ]
  },
  {
   "cell_type": "code",
   "execution_count": 63,
   "metadata": {},
   "outputs": [
    {
     "data": {
      "text/plain": [
       "XGBClassifier(base_score=0.5, booster='gbtree', colsample_bylevel=1,\n",
       "              colsample_bynode=1, colsample_bytree=1, gamma=0,\n",
       "              learning_rate=0.1, max_delta_step=0, max_depth=3,\n",
       "              min_child_weight=1, missing=None, n_estimators=10, n_jobs=1,\n",
       "              nthread=None, objective='binary:logistic', random_state=0,\n",
       "              reg_alpha=0, reg_lambda=1, scale_pos_weight=1, seed=123,\n",
       "              silent=None, subsample=1, verbosity=1)"
      ]
     },
     "execution_count": 63,
     "metadata": {},
     "output_type": "execute_result"
    }
   ],
   "source": [
    "classifier"
   ]
  },
  {
   "cell_type": "code",
   "execution_count": 64,
   "metadata": {},
   "outputs": [],
   "source": [
    "submission = pd.DataFrame({'PassengerId': test_data['PassengerId'], 'Survived': preds})\n",
    "# submission.to_csv('submission.csv', index=False)"
   ]
  },
  {
   "cell_type": "code",
   "execution_count": 65,
   "metadata": {},
   "outputs": [],
   "source": [
    "dtrain = xgb.DMatrix(X_train, label=y_train)\n",
    "dtest = xgb.DMatrix(X_test)"
   ]
  },
  {
   "cell_type": "code",
   "execution_count": 66,
   "metadata": {},
   "outputs": [
    {
     "name": "stdout",
     "output_type": "stream",
     "text": [
      "Fitting 3 folds for each of 420 candidates, totalling 1260 fits\n"
     ]
    },
    {
     "name": "stderr",
     "output_type": "stream",
     "text": [
      "[Parallel(n_jobs=-1)]: Using backend LokyBackend with 12 concurrent workers.\n",
      "[Parallel(n_jobs=-1)]: Done  29 tasks      | elapsed:    0.1s\n",
      "[Parallel(n_jobs=-1)]: Done 1000 tasks      | elapsed:    4.2s\n",
      "[Parallel(n_jobs=-1)]: Done 1237 out of 1260 | elapsed:    5.5s remaining:    0.0s\n",
      "[Parallel(n_jobs=-1)]: Done 1260 out of 1260 | elapsed:    5.8s finished\n",
      "[Parallel(n_jobs=-1)]: Using backend LokyBackend with 12 concurrent workers.\n",
      "[Parallel(n_jobs=-1)]: Done  31 tasks      | elapsed:    0.0s\n"
     ]
    },
    {
     "name": "stdout",
     "output_type": "stream",
     "text": [
      "Best paramters_found:  {'colsample_bytree': 0.2, 'eta': 0.001, 'max_depth': 11, 'n_estimators': 50}\n",
      "Fitting 4 folds for each of 420 candidates, totalling 1680 fits\n"
     ]
    },
    {
     "name": "stderr",
     "output_type": "stream",
     "text": [
      "[Parallel(n_jobs=-1)]: Done 1430 tasks      | elapsed:    6.4s\n",
      "[Parallel(n_jobs=-1)]: Done 1680 out of 1680 | elapsed:    8.0s finished\n",
      "[Parallel(n_jobs=-1)]: Using backend LokyBackend with 12 concurrent workers.\n",
      "[Parallel(n_jobs=-1)]: Done  30 tasks      | elapsed:    0.0s\n"
     ]
    },
    {
     "name": "stdout",
     "output_type": "stream",
     "text": [
      "Best paramters_found:  {'colsample_bytree': 0.2, 'eta': 0.001, 'max_depth': 11, 'n_estimators': 100}\n",
      "Fitting 5 folds for each of 420 candidates, totalling 2100 fits\n"
     ]
    },
    {
     "name": "stderr",
     "output_type": "stream",
     "text": [
      "[Parallel(n_jobs=-1)]: Done 1570 tasks      | elapsed:    7.1s\n",
      "[Parallel(n_jobs=-1)]: Done 2077 out of 2100 | elapsed:   10.4s remaining:    0.0s\n",
      "[Parallel(n_jobs=-1)]: Done 2100 out of 2100 | elapsed:   10.7s finished\n",
      "[Parallel(n_jobs=-1)]: Using backend LokyBackend with 12 concurrent workers.\n",
      "[Parallel(n_jobs=-1)]: Done  29 tasks      | elapsed:    0.0s\n"
     ]
    },
    {
     "name": "stdout",
     "output_type": "stream",
     "text": [
      "Best paramters_found:  {'colsample_bytree': 0.2, 'eta': 0.001, 'max_depth': 7, 'n_estimators': 100}\n",
      "Fitting 6 folds for each of 420 candidates, totalling 2520 fits\n"
     ]
    },
    {
     "name": "stderr",
     "output_type": "stream",
     "text": [
      "[Parallel(n_jobs=-1)]: Done 1640 tasks      | elapsed:    6.7s\n",
      "[Parallel(n_jobs=-1)]: Done 2364 tasks      | elapsed:   11.2s\n"
     ]
    },
    {
     "name": "stdout",
     "output_type": "stream",
     "text": [
      "Best paramters_found:  {'colsample_bytree': 0.2, 'eta': 0.001, 'max_depth': 9, 'n_estimators': 50}\n"
     ]
    },
    {
     "name": "stderr",
     "output_type": "stream",
     "text": [
      "[Parallel(n_jobs=-1)]: Done 2520 out of 2520 | elapsed:   12.6s finished\n"
     ]
    }
   ],
   "source": [
    "from sklearn.model_selection import GridSearchCV\n",
    "\n",
    "gbm_param_grid = {'colsample_bytree': [0.1, 0.2, 0.4, 0.6,],\n",
    "                  'n_estimators': [10, 20, 50, 100, 200],\n",
    "                  'max_depth': [6, 7, 8, 9, 10, 11, 12], \n",
    "                  'eta': [0.001, 0.01, 0.1]}\n",
    "\n",
    "cv_vals = [3, 4, 5, 6]\n",
    "best_auc = []\n",
    "\n",
    "for val in cv_vals:\n",
    "    gbm = xgb.XGBClassifier(objective='binary:logistic', seed=123)\n",
    "    \n",
    "    grid_mse = GridSearchCV(estimator=gbm, param_grid=gbm_param_grid, scoring='roc_auc', verbose=1, cv=val, n_jobs=-1)\n",
    "\n",
    "    grid_mse.fit(X_train, y_train)\n",
    "    \n",
    "    best_auc.append(grid_mse.best_score_)\n",
    "    print('Best paramters_found: ', grid_mse.best_params_)"
   ]
  },
  {
   "cell_type": "code",
   "execution_count": 67,
   "metadata": {},
   "outputs": [
    {
     "name": "stdout",
     "output_type": "stream",
     "text": [
      "   CV_folds       AUC\n",
      "0         3  0.874276\n",
      "1         4  0.880115\n",
      "2         5  0.883024\n",
      "3         6  0.879974\n"
     ]
    }
   ],
   "source": [
    "print(pd.DataFrame(list(zip(cv_vals, best_auc)), columns=['CV_folds', 'AUC']))"
   ]
  },
  {
   "cell_type": "code",
   "execution_count": 69,
   "metadata": {},
   "outputs": [],
   "source": [
    "xgb_classifier = xgb.XGBClassifier(objective='binary:logistic', n_estimators=100, eta=0.001, colsample_bytree=0.2, max_depth=7, seed=123)\n",
    "\n",
    "xgb_classifier.fit(X_train, y_train)\n",
    "\n",
    "opt_preds = xgb_classifier.predict(X_test)\n",
    "\n",
    "opt_sub = pd.DataFrame({'PassengerId': test_data['PassengerId'], 'Survived': opt_preds})\n",
    "opt_sub.to_csv('opt_submission.csv', index=False)"
   ]
  },
  {
   "cell_type": "code",
   "execution_count": null,
   "metadata": {},
   "outputs": [],
   "source": []
  }
 ],
 "metadata": {
  "kernelspec": {
   "display_name": "Python 3",
   "language": "python",
   "name": "python3"
  },
  "language_info": {
   "codemirror_mode": {
    "name": "ipython",
    "version": 3
   },
   "file_extension": ".py",
   "mimetype": "text/x-python",
   "name": "python",
   "nbconvert_exporter": "python",
   "pygments_lexer": "ipython3",
   "version": "3.7.6"
  }
 },
 "nbformat": 4,
 "nbformat_minor": 4
}
